{
  "nbformat": 4,
  "nbformat_minor": 0,
  "metadata": {
    "colab": {
      "name": "LiveProject Supervised Deep Learning for Melanoma Detection.ipynb",
      "provenance": []
    },
    "kernelspec": {
      "name": "python3",
      "display_name": "Python 3"
    }
  },
  "cells": [
    {
      "cell_type": "code",
      "metadata": {
        "id": "G5D9i6aGIs1s",
        "colab_type": "code",
        "colab": {}
      },
      "source": [
        ""
      ],
      "execution_count": null,
      "outputs": []
    },
    {
      "cell_type": "markdown",
      "metadata": {
        "id": "P6I0KPyhI5wq",
        "colab_type": "text"
      },
      "source": [
        "# Semi-Supervised Deep Learning for Melanoma Detection\n",
        "\n",
        "## Workflow\n",
        "\n",
        "* Setting up your development environment (GPU will only be used/activated if performance requires it)\n",
        "* Write “Hello World” of deep learning: train a handwritten digit classifier using PyTorch( > 95 % accuracy ) . "
      ]
    },
    {
      "cell_type": "markdown",
      "metadata": {
        "id": "uLjvjhg7Jszq",
        "colab_type": "text"
      },
      "source": [
        "### CODE: Imports for the notebook"
      ]
    },
    {
      "cell_type": "code",
      "metadata": {
        "id": "0O6FB1VzJqjT",
        "colab_type": "code",
        "colab": {}
      },
      "source": [
        "import time\n",
        "import torch\n",
        "import torchvision\n",
        "import numpy\n",
        "import matplotlib.pyplot as plt\n",
        "from IPython.core.display import HTML # just to format some outputs \n",
        "\n",
        "import google.colab   # Accessing and Saving data, I hope"
      ],
      "execution_count": 1,
      "outputs": []
    },
    {
      "cell_type": "markdown",
      "metadata": {
        "id": "l9vpSHNILCIb",
        "colab_type": "text"
      },
      "source": [
        "### CODE: Constants"
      ]
    },
    {
      "cell_type": "code",
      "metadata": {
        "id": "366wAvf7LCd9",
        "colab_type": "code",
        "colab": {}
      },
      "source": [
        "BASE_DIR = '/content/drive/My Drive/05_Colab'  # Dont' forget to \"Mount\" drive\n"
      ],
      "execution_count": 2,
      "outputs": []
    },
    {
      "cell_type": "markdown",
      "metadata": {
        "id": "-jtlqGZfYZDx",
        "colab_type": "text"
      },
      "source": [
        "### CODE: Functions"
      ]
    },
    {
      "cell_type": "code",
      "metadata": {
        "id": "TKd3x7HMYcc5",
        "colab_type": "code",
        "colab": {}
      },
      "source": [
        " ### Currently none in use"
      ],
      "execution_count": 3,
      "outputs": []
    },
    {
      "cell_type": "markdown",
      "metadata": {
        "id": "OjQdqL8SMcN-",
        "colab_type": "text"
      },
      "source": [
        "### CODE: Load Data"
      ]
    },
    {
      "cell_type": "code",
      "metadata": {
        "id": "vm_uqIurKylQ",
        "colab_type": "code",
        "colab": {}
      },
      "source": [
        "transform = torchvision.transforms.Compose([\n",
        "      torchvision.transforms.ToTensor(),\n",
        "      torchvision.transforms.Normalize((0.5), (0.5))])\n",
        "\n",
        "trainData = torchvision.datasets.MNIST(root = BASE_DIR, train = True, transform = transform, download = False)\n",
        "\n",
        "testData = torchvision.datasets.MNIST(root = BASE_DIR, train = False, transform = transform, download = False)\n",
        "\n",
        "trainLoader = torch.utils.data.DataLoader(trainData, batch_size=64, shuffle=True)\n",
        "testLoader = torch.utils.data.DataLoader(testData, batch_size=64, shuffle=True)"
      ],
      "execution_count": 4,
      "outputs": []
    },
    {
      "cell_type": "markdown",
      "metadata": {
        "id": "mL89dcGjMpUz",
        "colab_type": "text"
      },
      "source": [
        "### CODE: Data Exploration"
      ]
    },
    {
      "cell_type": "code",
      "metadata": {
        "id": "gF36ToY-MsUf",
        "colab_type": "code",
        "colab": {
          "base_uri": "https://localhost:8080/",
          "height": 418
        },
        "outputId": "c456360b-84f1-4904-a894-c7bad21c6a73"
      },
      "source": [
        "dataIter = iter(trainLoader)\n",
        "images, labels  = dataIter.next()\n",
        "\n",
        "print('\\nImages Info:')\n",
        "print(images.shape)\n",
        "print(images[0].shape)\n",
        "print(images[0][0].shape)\n",
        "\n",
        "plt.imshow(images[0].numpy().squeeze(), cmap='gray_r');\n",
        "\n",
        "print('\\nLabels Info:')\n",
        "print(labels.shape)\n",
        "print(labels[0])\n"
      ],
      "execution_count": 5,
      "outputs": [
        {
          "output_type": "stream",
          "text": [
            "\n",
            "Images Info:\n",
            "torch.Size([64, 1, 28, 28])\n",
            "torch.Size([1, 28, 28])\n",
            "torch.Size([28, 28])\n",
            "\n",
            "Labels Info:\n",
            "torch.Size([64])\n",
            "tensor(5)\n"
          ],
          "name": "stdout"
        },
        {
          "output_type": "display_data",
          "data": {
            "image/png": "[encoded data removed]",
            "text/plain": [
              "<Figure size 432x288 with 1 Axes>"
            ]
          },
          "metadata": {
            "tags": [],
            "needs_background": "light"
          }
        }
      ]
    },
    {
      "cell_type": "markdown",
      "metadata": {
        "id": "XHSfNoVpQNaF",
        "colab_type": "text"
      },
      "source": [
        "### CODE: Setup Network ( 784 -> 128 -> 64 -> 10)"
      ]
    },
    {
      "cell_type": "code",
      "metadata": {
        "id": "jdCzsiJYQdzG",
        "colab_type": "code",
        "colab": {
          "base_uri": "https://localhost:8080/",
          "height": 204
        },
        "outputId": "0ecf8227-112b-4bc1-86a2-9b08435e49de"
      },
      "source": [
        "input_size = 784\n",
        "hidden_sizes = [128, 64]\n",
        "output_size = 10\n",
        "\n",
        "model = torch.nn.Sequential(torch.nn.Linear(input_size, hidden_sizes[0]),\n",
        "                      torch.nn.ReLU(),\n",
        "                      torch.nn.Linear(hidden_sizes[0], hidden_sizes[1]),\n",
        "                      torch.nn.ReLU(),\n",
        "                      torch.nn.Linear(hidden_sizes[1], output_size),\n",
        "                      torch.nn.LogSoftmax(dim=1))\n",
        "print('Model:')\n",
        "print('======\\n')\n",
        "print(model)"
      ],
      "execution_count": 6,
      "outputs": [
        {
          "output_type": "stream",
          "text": [
            "Model:\n",
            "======\n",
            "\n",
            "Sequential(\n",
            "  (0): Linear(in_features=784, out_features=128, bias=True)\n",
            "  (1): ReLU()\n",
            "  (2): Linear(in_features=128, out_features=64, bias=True)\n",
            "  (3): ReLU()\n",
            "  (4): Linear(in_features=64, out_features=10, bias=True)\n",
            "  (5): LogSoftmax(dim=1)\n",
            ")\n"
          ],
          "name": "stdout"
        }
      ]
    },
    {
      "cell_type": "markdown",
      "metadata": {
        "id": "vRyfOFNCenoJ",
        "colab_type": "text"
      },
      "source": [
        "### CODE: Alternate Network ( 784 -> 100 -> 10)\n",
        "_(should manage the > 95% accuracy)_"
      ]
    },
    {
      "cell_type": "code",
      "metadata": {
        "id": "QM9Rtub-eCdt",
        "colab_type": "code",
        "colab": {
          "base_uri": "https://localhost:8080/",
          "height": 170
        },
        "outputId": "f08f748c-0bfd-4142-e574-9f6abced139d"
      },
      "source": [
        "input_size = 784\n",
        "hidden_size = 100\n",
        "output_size = 10\n",
        "\n",
        "model = torch.nn.Sequential(torch.nn.Linear(input_size, hidden_size),\n",
        "                      torch.nn.ReLU(),\n",
        "                      torch.nn.Linear(hidden_size, output_size),\n",
        "                      torch.nn.LogSoftmax(dim=1))\n",
        "print('Model:')\n",
        "print('======\\n')\n",
        "print(model)"
      ],
      "execution_count": 7,
      "outputs": [
        {
          "output_type": "stream",
          "text": [
            "Model:\n",
            "======\n",
            "\n",
            "Sequential(\n",
            "  (0): Linear(in_features=784, out_features=100, bias=True)\n",
            "  (1): ReLU()\n",
            "  (2): Linear(in_features=100, out_features=10, bias=True)\n",
            "  (3): LogSoftmax(dim=1)\n",
            ")\n"
          ],
          "name": "stdout"
        }
      ]
    },
    {
      "cell_type": "markdown",
      "metadata": {
        "id": "Op89-rx5WUGC",
        "colab_type": "text"
      },
      "source": [
        "### CODE: Train Network 10 Epochs"
      ]
    },
    {
      "cell_type": "code",
      "metadata": {
        "id": "2B46vhQ0Wcv4",
        "colab_type": "code",
        "colab": {
          "base_uri": "https://localhost:8080/",
          "height": 272
        },
        "outputId": "671c3730-4664-41e1-f902-c03c277736d1"
      },
      "source": [
        "\n",
        "criterion = torch.nn.NLLLoss()\n",
        "optimizer = torch.optim.SGD(model.parameters(), lr=0.003, momentum=0.9)\n",
        "\n",
        "startTime = time.time()\n",
        "epochs = 10\n",
        "print('Start Training:')\n",
        "print('===============\\n')\n",
        "for e in range(epochs):\n",
        "    running_loss = 0\n",
        "    for images, labels in trainLoader:\n",
        "        # Flatten MNIST images into a 784 long vector\n",
        "        images = images.view(images.shape[0], -1)\n",
        "    \n",
        "        # Training pass\n",
        "        optimizer.zero_grad()\n",
        "        \n",
        "        output = model(images)\n",
        "        loss = criterion(output, labels)\n",
        "        \n",
        "        loss.backward()\n",
        "        optimizer.step()\n",
        "        running_loss += loss.item()\n",
        "\n",
        "    print(f\"Epoch {e+1}/{epochs} - Training loss: {running_loss/len(trainLoader)}\")\n",
        "print(f\"\\nTraining Time: {(time.time()-startTime)/60}\",)\n"
      ],
      "execution_count": 8,
      "outputs": [
        {
          "output_type": "stream",
          "text": [
            "Start Training:\n",
            "===============\n",
            "\n",
            "Epoch 1/10 - Training loss: 0.5188149431430454\n",
            "Epoch 2/10 - Training loss: 0.2932392148447952\n",
            "Epoch 3/10 - Training loss: 0.2396226930719957\n",
            "Epoch 4/10 - Training loss: 0.19875096678654394\n",
            "Epoch 5/10 - Training loss: 0.17159489884392728\n",
            "Epoch 6/10 - Training loss: 0.14999452699770108\n",
            "Epoch 7/10 - Training loss: 0.13349008940454168\n",
            "Epoch 8/10 - Training loss: 0.12015398927152093\n",
            "Epoch 9/10 - Training loss: 0.1093007026077397\n",
            "Epoch 10/10 - Training loss: 0.10045509840717226\n",
            "\n",
            "Training Time: 1.355793837706248\n"
          ],
          "name": "stdout"
        }
      ]
    },
    {
      "cell_type": "markdown",
      "metadata": {
        "id": "4QgjY7-mW-OZ",
        "colab_type": "text"
      },
      "source": [
        "### CODE: Test Network"
      ]
    },
    {
      "cell_type": "code",
      "metadata": {
        "id": "zhOLokwGXCli",
        "colab_type": "code",
        "colab": {
          "base_uri": "https://localhost:8080/",
          "height": 316
        },
        "outputId": "ccaa76cc-4128-492d-c775-31d05d99b558"
      },
      "source": [
        "images, labels = next(iter(testLoader))\n",
        "\n",
        "img = images[0].view(1, 784)\n",
        "with torch.no_grad():\n",
        "    logps = model(img)\n",
        "\n",
        "ps = torch.exp(logps)\n",
        "probab = list(ps.numpy()[0])\n",
        "print(\"Manual Test:\")\n",
        "print(\"============\")\n",
        "print(\"Predicted Digit =\", probab.index(max(probab)))\n",
        "plt.imshow(images[0].numpy().squeeze(), cmap='gray_r');\n"
      ],
      "execution_count": 9,
      "outputs": [
        {
          "output_type": "stream",
          "text": [
            "Manual Test:\n",
            "============\n",
            "Predicted Digit = 3\n"
          ],
          "name": "stdout"
        },
        {
          "output_type": "display_data",
          "data": {
            "image/png": "[encoded data removed]",
            "text/plain": [
              "<Figure size 432x288 with 1 Axes>"
            ]
          },
          "metadata": {
            "tags": [],
            "needs_background": "light"
          }
        }
      ]
    },
    {
      "cell_type": "markdown",
      "metadata": {
        "id": "rhBNpyMgYkQy",
        "colab_type": "text"
      },
      "source": [
        "### CODE: Evaluate Network __(with whole test-set)__"
      ]
    },
    {
      "cell_type": "code",
      "metadata": {
        "id": "RhhQv2mlYwg1",
        "colab_type": "code",
        "colab": {
          "base_uri": "https://localhost:8080/",
          "height": 119
        },
        "outputId": "54b09508-f37e-400e-b606-6433ba89e272"
      },
      "source": [
        "print(\"Evaluate Trained Model:\")\n",
        "print(\"=======================\")\n",
        "\n",
        "testImagesCount = 0\n",
        "correctPredictions = 0\n",
        "\n",
        "for images, labels in testLoader:\n",
        "  for idx in range(len(labels)):\n",
        "    img = images[idx].view(1, 784)\n",
        "    with torch.no_grad():\n",
        "        logps = model(img)\n",
        "\n",
        "    ps = torch.exp(logps)\n",
        "    probab = list(ps.numpy()[0])\n",
        "    predictedValue = probab.index(max(probab))\n",
        "    currentValue = labels.numpy()[idx]\n",
        "    \n",
        "    correctPredictions += not (predictedValue - currentValue)\n",
        "    testImagesCount += 1\n",
        "\n",
        "print(f\"Tested images: {testImagesCount}\")\n",
        "print(f\"Correct predicted: {correctPredictions} / {testImagesCount}\\n\")\n",
        "print(f\"Accuracy: {round((correctPredictions/testImagesCount) * 100, 2)}%\")"
      ],
      "execution_count": 10,
      "outputs": [
        {
          "output_type": "stream",
          "text": [
            "Evaluate Trained Model:\n",
            "=======================\n",
            "Tested images: 10000\n",
            "Correct predicted: 9686 / 10000\n",
            "\n",
            "Accuracy: 96.86%\n"
          ],
          "name": "stdout"
        }
      ]
    }
  ]
}