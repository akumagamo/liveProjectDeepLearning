{
  "nbformat": 4,
  "nbformat_minor": 0,
  "metadata": {
    "colab": {
      "name": "LiveProject Supervised Deep Learning for Melanoma Detection.ipynb",
      "provenance": [],
      "collapsed_sections": [
        "OjQdqL8SMcN-",
        "mL89dcGjMpUz",
        "XHSfNoVpQNaF",
        "vRyfOFNCenoJ"
      ]
    },
    "kernelspec": {
      "name": "python3",
      "display_name": "Python 3"
    }
  },
  "cells": [
    {
      "cell_type": "markdown",
      "metadata": {
        "id": "P6I0KPyhI5wq",
        "colab_type": "text"
      },
      "source": [
        "# Semi-Supervised Deep Learning for Melanoma Detection\n",
        "\n",
        "## Workflow\n",
        "\n",
        "* Setting up your development environment (GPU will only be used/activated if performance requires it)\n",
        "* Write “Hello World” of deep learning: train a handwritten digit classifier using PyTorch( > 95 % accuracy ) . "
      ]
    },
    {
      "cell_type": "markdown",
      "metadata": {
        "id": "uLjvjhg7Jszq",
        "colab_type": "text"
      },
      "source": [
        "### CODE: Imports for the notebook"
      ]
    },
    {
      "cell_type": "code",
      "metadata": {
        "id": "0O6FB1VzJqjT",
        "colab_type": "code",
        "colab": {}
      },
      "source": [
        "import time\n",
        "import torch\n",
        "import torchvision\n",
        "import numpy\n",
        "import matplotlib.pyplot as plt\n",
        "from IPython.core.display import HTML # just to format some outputs \n",
        "\n",
        "import google.colab   # Accessing and Saving data, I hope"
      ],
      "execution_count": 1,
      "outputs": []
    },
    {
      "cell_type": "markdown",
      "metadata": {
        "id": "l9vpSHNILCIb",
        "colab_type": "text"
      },
      "source": [
        "### CODE: Constants"
      ]
    },
    {
      "cell_type": "code",
      "metadata": {
        "id": "366wAvf7LCd9",
        "colab_type": "code",
        "colab": {}
      },
      "source": [
        "BASE_DIR = '/content/drive/My Drive/05_Colab'  # Dont' forget to \"Mount\" drive\n",
        "NETWORK_FILE_NAME = 'submission_001'  # Filename for Network to save"
      ],
      "execution_count": 2,
      "outputs": []
    },
    {
      "cell_type": "markdown",
      "metadata": {
        "id": "-jtlqGZfYZDx",
        "colab_type": "text"
      },
      "source": [
        "### CODE: Functions"
      ]
    },
    {
      "cell_type": "code",
      "metadata": {
        "id": "TKd3x7HMYcc5",
        "colab_type": "code",
        "colab": {}
      },
      "source": [
        "def runTestOnModel(model):\n",
        "  \"\"\"tests the passed model and returns the error-number-count\"\"\"\n",
        "\n",
        "  testImagesCount = 0\n",
        "  correctPredictions = 0\n",
        "  errorProneNumbers = numpy.zeros(10)\n",
        "  \n",
        "  for images, labels in testLoader:\n",
        "    for idx in range(len(labels)):\n",
        "      img = images[idx].view(1, 784)\n",
        "      with torch.no_grad():\n",
        "        logps = model(img)\n",
        "\n",
        "      ps = torch.exp(logps)\n",
        "      probab = list(ps.numpy()[0])\n",
        "      predictedValue = probab.index(max(probab))\n",
        "      currentValue = labels.numpy()[idx]\n",
        "    \n",
        "      if predictedValue == currentValue:\n",
        "        correctPredictions += 1\n",
        "      else:\n",
        "        errorProneNumbers[currentValue] += 1\n",
        "      testImagesCount += 1\n",
        "\n",
        "  print(f\"Tested images: {testImagesCount}\")\n",
        "  print(f\"Correct predicted: {correctPredictions} / {testImagesCount}\\n\")\n",
        "  print(f\"Accuracy: {round((correctPredictions/testImagesCount) * 100, 2)}%\")\n",
        "  return errorProneNumbers\n",
        "\n",
        "\n",
        "def trainModel(model, epochs, lr=0.003, momentum=0.9):\n",
        "  \"\"\"train model and returns losses and duration.\"\"\"\n",
        "\n",
        "  losses = []\n",
        "  criterion = torch.nn.NLLLoss()\n",
        "  optimizer = torch.optim.SGD(model.parameters(), lr=lr, momentum=momentum)\n",
        "\n",
        "  startTime = time.time()\n",
        "  print('Start Training:')\n",
        "  print('===============\\n')\n",
        "  for e in range(epochs):\n",
        "    lossHelper = 0\n",
        "    for images, labels in trainLoader:\n",
        "        # Flatten MNIST images into a 784 long vector\n",
        "        images = images.view(images.shape[0], -1)\n",
        "    \n",
        "        # Training pass\n",
        "        optimizer.zero_grad()\n",
        "        \n",
        "        output = model(images)\n",
        "        loss = criterion(output, labels)\n",
        "        \n",
        "        loss.backward()\n",
        "        optimizer.step()\n",
        "        lossHelper += loss.item()\n",
        "    losses.append(lossHelper)\n",
        "    print(f\"Epoch {e+1}/{epochs} Training loss: {lossHelper/len(trainLoader)}\")\n",
        "\n",
        "  training_time = (time.time()-startTime)/60\n",
        "  print(f\"\\nTraining Time: {training_time}\",)\n",
        "  return (losses, training_time)"
      ],
      "execution_count": 3,
      "outputs": []
    },
    {
      "cell_type": "markdown",
      "metadata": {
        "id": "OjQdqL8SMcN-",
        "colab_type": "text"
      },
      "source": [
        "### CODE: Load Data"
      ]
    },
    {
      "cell_type": "code",
      "metadata": {
        "id": "vm_uqIurKylQ",
        "colab_type": "code",
        "colab": {}
      },
      "source": [
        "transform = torchvision.transforms.Compose([\n",
        "      torchvision.transforms.ToTensor(),\n",
        "      torchvision.transforms.Normalize((0.5), (0.5))])\n",
        "\n",
        "trainData = torchvision.datasets.MNIST(root = BASE_DIR, train = True, transform = transform, download = False)\n",
        "\n",
        "testData = torchvision.datasets.MNIST(root = BASE_DIR, train = False, transform = transform, download = False)\n",
        "\n",
        "trainLoader = torch.utils.data.DataLoader(trainData, batch_size=64, shuffle=True)\n",
        "testLoader = torch.utils.data.DataLoader(testData, batch_size=64, shuffle=True)"
      ],
      "execution_count": 4,
      "outputs": []
    },
    {
      "cell_type": "markdown",
      "metadata": {
        "id": "mL89dcGjMpUz",
        "colab_type": "text"
      },
      "source": [
        "### CODE: Data Exploration"
      ]
    },
    {
      "cell_type": "code",
      "metadata": {
        "id": "gF36ToY-MsUf",
        "colab_type": "code",
        "colab": {
          "base_uri": "https://localhost:8080/",
          "height": 418
        },
        "outputId": "5c9caeb3-6b19-47a9-cb72-0411312c502c"
      },
      "source": [
        "dataIter = iter(trainLoader)\n",
        "images, labels  = dataIter.next()\n",
        "\n",
        "print('\\nImages Info:')\n",
        "print(images.shape)\n",
        "print(images[0].shape)\n",
        "print(images[0][0].shape)\n",
        "\n",
        "plt.imshow(images[0].numpy().squeeze(), cmap='gray_r');\n",
        "\n",
        "print('\\nLabels Info:')\n",
        "print(labels.shape)\n",
        "print(labels[0])\n"
      ],
      "execution_count": 5,
      "outputs": [
        {
          "output_type": "stream",
          "text": [
            "\n",
            "Images Info:\n",
            "torch.Size([64, 1, 28, 28])\n",
            "torch.Size([1, 28, 28])\n",
            "torch.Size([28, 28])\n",
            "\n",
            "Labels Info:\n",
            "torch.Size([64])\n",
            "tensor(8)\n"
          ],
          "name": "stdout"
        },
        {
          "output_type": "display_data",
          "data": {
            "image/png": "[encoded data removed]",
            "text/plain": [
              "<Figure size 432x288 with 1 Axes>"
            ]
          },
          "metadata": {
            "tags": [],
            "needs_background": "light"
          }
        }
      ]
    },
    {
      "cell_type": "markdown",
      "metadata": {
        "id": "XHSfNoVpQNaF",
        "colab_type": "text"
      },
      "source": [
        "### CODE: Setup Network ( 784 -> 128 -> 64 -> 10)"
      ]
    },
    {
      "cell_type": "code",
      "metadata": {
        "id": "jdCzsiJYQdzG",
        "colab_type": "code",
        "colab": {
          "base_uri": "https://localhost:8080/",
          "height": 204
        },
        "outputId": "db2dec18-115b-4cf6-fd67-40ddd2a2f363"
      },
      "source": [
        "input_size = 784\n",
        "hidden_sizes = [128, 64]\n",
        "output_size = 10\n",
        "\n",
        "model = torch.nn.Sequential(torch.nn.Linear(input_size, hidden_sizes[0]),\n",
        "                      torch.nn.ReLU(),\n",
        "                      torch.nn.Linear(hidden_sizes[0], hidden_sizes[1]),\n",
        "                      torch.nn.ReLU(),\n",
        "                      torch.nn.Linear(hidden_sizes[1], output_size),\n",
        "                      torch.nn.LogSoftmax(dim=1))\n",
        "print('Model:')\n",
        "print('======\\n')\n",
        "print(model)"
      ],
      "execution_count": 6,
      "outputs": [
        {
          "output_type": "stream",
          "text": [
            "Model:\n",
            "======\n",
            "\n",
            "Sequential(\n",
            "  (0): Linear(in_features=784, out_features=128, bias=True)\n",
            "  (1): ReLU()\n",
            "  (2): Linear(in_features=128, out_features=64, bias=True)\n",
            "  (3): ReLU()\n",
            "  (4): Linear(in_features=64, out_features=10, bias=True)\n",
            "  (5): LogSoftmax(dim=1)\n",
            ")\n"
          ],
          "name": "stdout"
        }
      ]
    },
    {
      "cell_type": "markdown",
      "metadata": {
        "id": "vRyfOFNCenoJ",
        "colab_type": "text"
      },
      "source": [
        "### CODE: Alternate Network ( 784 -> 100 -> 10)\n",
        "_(should manage the > 95% accuracy)_"
      ]
    },
    {
      "cell_type": "code",
      "metadata": {
        "id": "QM9Rtub-eCdt",
        "colab_type": "code",
        "colab": {
          "base_uri": "https://localhost:8080/",
          "height": 170
        },
        "outputId": "c3c0c181-1ef5-4298-aba9-2dae8fb932b3"
      },
      "source": [
        "input_size = 784\n",
        "hidden_size = 100\n",
        "output_size = 10\n",
        "\n",
        "model_alt = torch.nn.Sequential(torch.nn.Linear(input_size, hidden_size),\n",
        "                      torch.nn.ReLU(),\n",
        "                      torch.nn.Linear(hidden_size, output_size),\n",
        "                      torch.nn.LogSoftmax(dim=1))\n",
        "print('Alt Model:')\n",
        "print('==========\\n')\n",
        "print(model_alt)"
      ],
      "execution_count": 7,
      "outputs": [
        {
          "output_type": "stream",
          "text": [
            "Alt Model:\n",
            "==========\n",
            "\n",
            "Sequential(\n",
            "  (0): Linear(in_features=784, out_features=100, bias=True)\n",
            "  (1): ReLU()\n",
            "  (2): Linear(in_features=100, out_features=10, bias=True)\n",
            "  (3): LogSoftmax(dim=1)\n",
            ")\n"
          ],
          "name": "stdout"
        }
      ]
    },
    {
      "cell_type": "markdown",
      "metadata": {
        "id": "Op89-rx5WUGC",
        "colab_type": "text"
      },
      "source": [
        "### CODE: Train Network 10 Epochs"
      ]
    },
    {
      "cell_type": "code",
      "metadata": {
        "id": "tofoxu-4s7wj",
        "colab_type": "code",
        "colab": {
          "base_uri": "https://localhost:8080/",
          "height": 578
        },
        "outputId": "9699cf3d-11b4-405c-ddb9-c58e95eb5c81"
      },
      "source": [
        "epochs = 10\n",
        "print(\"BASE MODEL\")\n",
        "baseLosses, baseTime = trainModel(model, epochs)\n",
        "\n",
        "print(\"\\nALTERNATE MODEL\")\n",
        "altLosses, altTime = trainModel(model_alt, epochs)"
      ],
      "execution_count": 8,
      "outputs": [
        {
          "output_type": "stream",
          "text": [
            "BASE MODEL\n",
            "Start Training:\n",
            "===============\n",
            "\n",
            "Epoch 1/10 Training loss: 0.6429814805211161\n",
            "Epoch 2/10 Training loss: 0.28018789743182504\n",
            "Epoch 3/10 Training loss: 0.21669105700115915\n",
            "Epoch 4/10 Training loss: 0.17457738250636978\n",
            "Epoch 5/10 Training loss: 0.14621461348544593\n",
            "Epoch 6/10 Training loss: 0.1247110026163746\n",
            "Epoch 7/10 Training loss: 0.11071595746173915\n",
            "Epoch 8/10 Training loss: 0.09754420173014881\n",
            "Epoch 9/10 Training loss: 0.08741764041251623\n",
            "Epoch 10/10 Training loss: 0.07991034944287574\n",
            "\n",
            "Training Time: 1.4068771163622538\n",
            "\n",
            "ALTERNATE MODEL\n",
            "Start Training:\n",
            "===============\n",
            "\n",
            "Epoch 1/10 Training loss: 0.5226407608847374\n",
            "Epoch 2/10 Training loss: 0.2930029998900794\n",
            "Epoch 3/10 Training loss: 0.24159373179364052\n",
            "Epoch 4/10 Training loss: 0.2047937850215669\n",
            "Epoch 5/10 Training loss: 0.17709516282322438\n",
            "Epoch 6/10 Training loss: 0.1549118324053853\n",
            "Epoch 7/10 Training loss: 0.1380007067151161\n",
            "Epoch 8/10 Training loss: 0.1247956916086201\n",
            "Epoch 9/10 Training loss: 0.11281966391815813\n",
            "Epoch 10/10 Training loss: 0.10307995182896919\n",
            "\n",
            "Training Time: 1.3643073598543802\n"
          ],
          "name": "stdout"
        }
      ]
    },
    {
      "cell_type": "markdown",
      "metadata": {
        "id": "4QgjY7-mW-OZ",
        "colab_type": "text"
      },
      "source": [
        "### CODE: Test Network"
      ]
    },
    {
      "cell_type": "code",
      "metadata": {
        "id": "zhOLokwGXCli",
        "colab_type": "code",
        "colab": {
          "base_uri": "https://localhost:8080/",
          "height": 333
        },
        "outputId": "058c68a1-8782-42e4-a5df-96fc7416c30d"
      },
      "source": [
        "images, labels = next(iter(testLoader))\n",
        "\n",
        "img = images[0].view(1, 784)\n",
        "with torch.no_grad():\n",
        "    logps = model(img)\n",
        "\n",
        "ps = torch.exp(logps)\n",
        "probab = list(ps.numpy()[0])\n",
        "print(\"Manual Test:\")\n",
        "print(\"============\")\n",
        "print(\"Predicted Digit: \", probab.index(max(probab)))\n",
        "print(\"Real Current Digit:\", labels.numpy()[0])\n",
        "plt.imshow(images[0].numpy().squeeze(), cmap='gray_r');\n"
      ],
      "execution_count": 9,
      "outputs": [
        {
          "output_type": "stream",
          "text": [
            "Manual Test:\n",
            "============\n",
            "Predicted Digit:  5\n",
            "Real Current Digit: 5\n"
          ],
          "name": "stdout"
        },
        {
          "output_type": "display_data",
          "data": {
            "image/png": "[encoded data removed]",
            "text/plain": [
              "<Figure size 432x288 with 1 Axes>"
            ]
          },
          "metadata": {
            "tags": [],
            "needs_background": "light"
          }
        }
      ]
    },
    {
      "cell_type": "markdown",
      "metadata": {
        "id": "rhBNpyMgYkQy",
        "colab_type": "text"
      },
      "source": [
        "### CODE: Evaluate Network __(with whole test-set)__"
      ]
    },
    {
      "cell_type": "code",
      "metadata": {
        "id": "RhhQv2mlYwg1",
        "colab_type": "code",
        "colab": {
          "base_uri": "https://localhost:8080/",
          "height": 289
        },
        "outputId": "22339aa8-325f-4230-8735-5e11e0cf8e59"
      },
      "source": [
        "print(\"Evaluate Base Model:\")\n",
        "print(\"=======================\")\n",
        "\n",
        "error = runTestOnModel(model)\n",
        "\n",
        "print(\"\\n\\nEvaluate Alternate Model:\")\n",
        "print(\"=======================\")\n",
        "error_alt = runTestOnModel(model_alt)\n",
        "\n",
        "print(f\"\\nTraining time(in Min) base: {baseTime} vs alternate: {altTime}\")"
      ],
      "execution_count": 10,
      "outputs": [
        {
          "output_type": "stream",
          "text": [
            "Evaluate Base Model:\n",
            "=======================\n",
            "Tested images: 10000\n",
            "Correct predicted: 9664 / 10000\n",
            "\n",
            "Accuracy: 96.64%\n",
            "\n",
            "\n",
            "Evaluate Alternate Model:\n",
            "=======================\n",
            "Tested images: 10000\n",
            "Correct predicted: 9657 / 10000\n",
            "\n",
            "Accuracy: 96.57%\n",
            "\n",
            "Training time(in Min) base: 1.4068771163622538 vs alternate: 1.3643073598543802\n"
          ],
          "name": "stdout"
        }
      ]
    },
    {
      "cell_type": "markdown",
      "metadata": {
        "id": "vtpfWF1akviZ",
        "colab_type": "text"
      },
      "source": [
        "### CODE: Display some extra Metrics"
      ]
    },
    {
      "cell_type": "code",
      "metadata": {
        "id": "LL0AHBIIk22N",
        "colab_type": "code",
        "colab": {
          "base_uri": "https://localhost:8080/",
          "height": 441
        },
        "outputId": "15cad3e3-5dd7-427f-8fdd-e61dc417cecb"
      },
      "source": [
        "print(\"Visualizies where errors occure\");\n",
        "print(\"===============================\");\n",
        "plt.figure(figsize=(10,6))\n",
        "\n",
        "x = range(10)\n",
        "x1 = range(len(baseLosses))\n",
        "\n",
        "plt.subplot(221)\n",
        "plt.xticks(x)\n",
        "plt.title(\"BASE\");\n",
        "plt.plot(x, error,  color='m')\n",
        "plt.subplot(222)\n",
        "plt.xticks(x)\n",
        "plt.title(\"ALTERNATIVE\");\n",
        "plt.plot(x, error_alt, color='b')\n",
        "plt.subplot(223)\n",
        "plt.xticks(x1)\n",
        "plt.plot(x1, baseLosses,  color='m')\n",
        "plt.subplot(224)\n",
        "plt.xticks(x1)\n",
        "plt.plot(x1, altLosses,  color='b')\n"
      ],
      "execution_count": 11,
      "outputs": [
        {
          "output_type": "stream",
          "text": [
            "Visualizies where errors occure\n",
            "===============================\n"
          ],
          "name": "stdout"
        },
        {
          "output_type": "execute_result",
          "data": {
            "text/plain": [
              "[<matplotlib.lines.Line2D at 0x7f07c561f080>]"
            ]
          },
          "metadata": {
            "tags": []
          },
          "execution_count": 11
        },
        {
          "output_type": "display_data",
          "data": {
            "image/png": "[encoded data removed]",
            "text/plain": [
              "<Figure size 720x432 with 4 Axes>"
            ]
          },
          "metadata": {
            "tags": [],
            "needs_background": "light"
          }
        }
      ]
    },
    {
      "cell_type": "markdown",
      "metadata": {
        "id": "zS0oDDM2k9Rp",
        "colab_type": "text"
      },
      "source": [
        "### CODE: Save Good Network"
      ]
    },
    {
      "cell_type": "code",
      "metadata": {
        "id": "Tc1VcDVAk9no",
        "colab_type": "code",
        "colab": {}
      },
      "source": [
        "#@title Filename for saving\n",
        "\n",
        "filename = 'submission_001.pt' #@param {type:\"string\"}\n",
        "#filename = filename.strip()\n",
        "#filename = filename if len(filename) > 0 else NETWORK_FILE_NAME\n",
        "#torch.save(model, f'{BASE_DIR}/{filename}') \n",
        "#print('Networt was Saved!')"
      ],
      "execution_count": 12,
      "outputs": []
    }
  ]
}